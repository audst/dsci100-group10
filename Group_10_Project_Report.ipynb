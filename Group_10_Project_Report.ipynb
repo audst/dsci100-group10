{
 "cells": [
  {
   "cell_type": "markdown",
   "id": "4a4445c9",
   "metadata": {},
   "source": [
    "# Prediction of Pulsars and Non-pulsars via Classification - Project Report\n",
    "\n",
    "## Group 10 Members\n",
    "- Nishant Molleti:   21147343\n",
    "- Ajitesh Taneja: &nbsp; 69832913\n",
    "- Asteria Xu: &nbsp; &nbsp; &nbsp; &nbsp; 56376452\n",
    "- Audrey Tsung: &nbsp; 60770633"
   ]
  },
  {
   "cell_type": "markdown",
   "id": "90315196",
   "metadata": {},
   "source": [
    "## Introduction\n",
    "\n",
    "Pulsars are rotating neutron stars that emit radio waves at regular intervals, and their detection is important in fields such as Astrophysics and Radio Astronomy. However, pulsars are challenging to detect due to interference and noise at radio frequencies, thus giving false signals. To improve detection, machine learning techniques have been employed. \n",
    "\n",
    "The question that we want to address is: Is a new observation a pulsar or non-pulsar based on the statistics of the integrated profile as our predictors? \n",
    "\n",
    "The dataset which we are using to answer this question is the HTRU2 dataset, which contains 17,898 observations of pulsars and non-pulsars, obtained from the High Time Resolution Universe Survey. Each observation has 8 features; mean, standard deviation, excess kurtosis and skewness for both the Integrated Profile and DM-SNR curve. Additionally, a binary label called 'class' is used to indicate whether an observation is a pulsar or not where 0 belongs to non-pulsar and 1 being pulsar. \n"
   ]
  },
  {
   "cell_type": "code",
   "execution_count": 1,
   "id": "88f71c74",
   "metadata": {},
   "outputs": [
    {
     "name": "stderr",
     "output_type": "stream",
     "text": [
      "── \u001b[1mAttaching packages\u001b[22m ─────────────────────────────────────── tidyverse 1.3.1 ──\n",
      "\n",
      "\u001b[32m✔\u001b[39m \u001b[34mggplot2\u001b[39m 3.3.6     \u001b[32m✔\u001b[39m \u001b[34mpurrr  \u001b[39m 0.3.4\n",
      "\u001b[32m✔\u001b[39m \u001b[34mtibble \u001b[39m 3.1.8     \u001b[32m✔\u001b[39m \u001b[34mdplyr  \u001b[39m 1.0.9\n",
      "\u001b[32m✔\u001b[39m \u001b[34mtidyr  \u001b[39m 1.2.0     \u001b[32m✔\u001b[39m \u001b[34mstringr\u001b[39m 1.4.0\n",
      "\u001b[32m✔\u001b[39m \u001b[34mreadr  \u001b[39m 2.1.2     \u001b[32m✔\u001b[39m \u001b[34mforcats\u001b[39m 0.5.1\n",
      "\n",
      "Warning message:\n",
      "“package ‘ggplot2’ was built under R version 4.1.3”\n",
      "Warning message:\n",
      "“package ‘tidyr’ was built under R version 4.1.2”\n",
      "Warning message:\n",
      "“package ‘readr’ was built under R version 4.1.2”\n",
      "Warning message:\n",
      "“package ‘dplyr’ was built under R version 4.1.3”\n",
      "── \u001b[1mConflicts\u001b[22m ────────────────────────────────────────── tidyverse_conflicts() ──\n",
      "\u001b[31m✖\u001b[39m \u001b[34mdplyr\u001b[39m::\u001b[32mfilter()\u001b[39m masks \u001b[34mstats\u001b[39m::filter()\n",
      "\u001b[31m✖\u001b[39m \u001b[34mdplyr\u001b[39m::\u001b[32mlag()\u001b[39m    masks \u001b[34mstats\u001b[39m::lag()\n",
      "\n",
      "Warning message:\n",
      "“package ‘recipes’ was built under R version 4.1.3”\n",
      "\n",
      "Attaching package: ‘recipes’\n",
      "\n",
      "\n",
      "The following object is masked from ‘package:stringr’:\n",
      "\n",
      "    fixed\n",
      "\n",
      "\n",
      "The following object is masked from ‘package:stats’:\n",
      "\n",
      "    step\n",
      "\n",
      "\n",
      "Warning message:\n",
      "“package ‘tidymodels’ was built under R version 4.1.3”\n",
      "── \u001b[1mAttaching packages\u001b[22m ────────────────────────────────────── tidymodels 1.0.0 ──\n",
      "\n",
      "\u001b[32m✔\u001b[39m \u001b[34mbroom       \u001b[39m 1.0.0     \u001b[32m✔\u001b[39m \u001b[34mrsample     \u001b[39m 1.0.0\n",
      "\u001b[32m✔\u001b[39m \u001b[34mdials       \u001b[39m 1.0.0     \u001b[32m✔\u001b[39m \u001b[34mtune        \u001b[39m 1.0.0\n",
      "\u001b[32m✔\u001b[39m \u001b[34minfer       \u001b[39m 1.0.2     \u001b[32m✔\u001b[39m \u001b[34mworkflows   \u001b[39m 1.0.0\n",
      "\u001b[32m✔\u001b[39m \u001b[34mmodeldata   \u001b[39m 1.0.0     \u001b[32m✔\u001b[39m \u001b[34mworkflowsets\u001b[39m 1.0.0\n",
      "\u001b[32m✔\u001b[39m \u001b[34mparsnip     \u001b[39m 1.0.0     \u001b[32m✔\u001b[39m \u001b[34myardstick   \u001b[39m 1.0.0\n",
      "\n",
      "Warning message:\n",
      "“package ‘broom’ was built under R version 4.1.3”\n",
      "Warning message:\n",
      "“package ‘dials’ was built under R version 4.1.3”\n",
      "Warning message:\n",
      "“package ‘scales’ was built under R version 4.1.3”\n",
      "Warning message:\n",
      "“package ‘infer’ was built under R version 4.1.3”\n",
      "Warning message:\n",
      "“package ‘modeldata’ was built under R version 4.1.3”\n",
      "Warning message:\n",
      "“package ‘parsnip’ was built under R version 4.1.3”\n",
      "Warning message:\n",
      "“package ‘rsample’ was built under R version 4.1.3”\n",
      "Warning message:\n",
      "“package ‘tune’ was built under R version 4.1.3”\n",
      "Warning message:\n",
      "“package ‘workflows’ was built under R version 4.1.3”\n",
      "Warning message:\n",
      "“package ‘workflowsets’ was built under R version 4.1.3”\n",
      "Warning message:\n",
      "“package ‘yardstick’ was built under R version 4.1.3”\n",
      "── \u001b[1mConflicts\u001b[22m ───────────────────────────────────────── tidymodels_conflicts() ──\n",
      "\u001b[31m✖\u001b[39m \u001b[34mscales\u001b[39m::\u001b[32mdiscard()\u001b[39m masks \u001b[34mpurrr\u001b[39m::discard()\n",
      "\u001b[31m✖\u001b[39m \u001b[34mdplyr\u001b[39m::\u001b[32mfilter()\u001b[39m   masks \u001b[34mstats\u001b[39m::filter()\n",
      "\u001b[31m✖\u001b[39m \u001b[34mrecipes\u001b[39m::\u001b[32mfixed()\u001b[39m  masks \u001b[34mstringr\u001b[39m::fixed()\n",
      "\u001b[31m✖\u001b[39m \u001b[34mdplyr\u001b[39m::\u001b[32mlag()\u001b[39m      masks \u001b[34mstats\u001b[39m::lag()\n",
      "\u001b[31m✖\u001b[39m \u001b[34myardstick\u001b[39m::\u001b[32mspec()\u001b[39m masks \u001b[34mreadr\u001b[39m::spec()\n",
      "\u001b[31m✖\u001b[39m \u001b[34mrecipes\u001b[39m::\u001b[32mstep()\u001b[39m   masks \u001b[34mstats\u001b[39m::step()\n",
      "\u001b[34m•\u001b[39m Use \u001b[32mtidymodels_prefer()\u001b[39m to resolve common conflicts.\n",
      "\n"
     ]
    },
    {
     "ename": "ERROR",
     "evalue": "Error in library(cowplot): there is no package called ‘cowplot’\n",
     "output_type": "error",
     "traceback": [
      "Error in library(cowplot): there is no package called ‘cowplot’\nTraceback:\n",
      "1. library(cowplot)"
     ]
    }
   ],
   "source": [
    "library(tidyverse)\n",
    "library(repr)\n",
    "library(recipes)\n",
    "library(tidymodels)\n",
    "library(cowplot)\n",
    "library(GGally)\n",
    "library(tidymodels)\n",
    "library(ggplot2)\n",
    "install.packages(\"themis\")\n",
    "library(\"themis\")"
   ]
  },
  {
   "cell_type": "markdown",
   "id": "723da81a",
   "metadata": {},
   "source": [
    "## Preliminary Exploratory Data Analysis\n",
    "\n",
    "Now, we will read the dataset from the web into R, and then clean our data.  Here, we notice that the class column has 0's and 1's. The 1's mean that the observation is a pulsar, and 0 means non-pulsar."
   ]
  },
  {
   "cell_type": "code",
   "execution_count": 2,
   "id": "a7388020",
   "metadata": {},
   "outputs": [
    {
     "name": "stderr",
     "output_type": "stream",
     "text": [
      "\u001b[1mRows: \u001b[22m\u001b[34m17898\u001b[39m \u001b[1mColumns: \u001b[22m\u001b[34m9\u001b[39m\n",
      "\u001b[36m──\u001b[39m \u001b[1mColumn specification\u001b[22m \u001b[36m────────────────────────────────────────────────────────\u001b[39m\n",
      "\u001b[1mDelimiter:\u001b[22m \",\"\n",
      "\u001b[32mdbl\u001b[39m (9): mean_ip, std_ip, ek_ip, sk_ip, mean_dmsnr, std_dmsnr, ek_dmsnr, sk_...\n",
      "\n",
      "\u001b[36mℹ\u001b[39m Use `spec()` to retrieve the full column specification for this data.\n",
      "\u001b[36mℹ\u001b[39m Specify the column types or set `show_col_types = FALSE` to quiet this message.\n"
     ]
    },
    {
     "name": "stdout",
     "output_type": "stream",
     "text": [
      "[1] \"Table 1\"\n"
     ]
    },
    {
     "data": {
      "text/html": [
       "<table class=\"dataframe\">\n",
       "<caption>A tibble: 10 × 9</caption>\n",
       "<thead>\n",
       "\t<tr><th scope=col>mean_ip</th><th scope=col>std_ip</th><th scope=col>ek_ip</th><th scope=col>sk_ip</th><th scope=col>mean_dmsnr</th><th scope=col>std_dmsnr</th><th scope=col>ek_dmsnr</th><th scope=col>sk_dmsnr</th><th scope=col>class</th></tr>\n",
       "\t<tr><th scope=col>&lt;dbl&gt;</th><th scope=col>&lt;dbl&gt;</th><th scope=col>&lt;dbl&gt;</th><th scope=col>&lt;dbl&gt;</th><th scope=col>&lt;dbl&gt;</th><th scope=col>&lt;dbl&gt;</th><th scope=col>&lt;dbl&gt;</th><th scope=col>&lt;dbl&gt;</th><th scope=col>&lt;fct&gt;</th></tr>\n",
       "</thead>\n",
       "<tbody>\n",
       "\t<tr><td>140.56250</td><td>55.68378</td><td>-0.23457141</td><td>-0.6996484</td><td>3.1998328</td><td>19.110426</td><td> 7.975532</td><td> 74.24222</td><td>0</td></tr>\n",
       "\t<tr><td>102.50781</td><td>58.88243</td><td> 0.46531815</td><td>-0.5150879</td><td>1.6772575</td><td>14.860146</td><td>10.576487</td><td>127.39358</td><td>0</td></tr>\n",
       "\t<tr><td>103.01562</td><td>39.34165</td><td> 0.32332837</td><td> 1.0511644</td><td>3.1212375</td><td>21.744669</td><td> 7.735822</td><td> 63.17191</td><td>0</td></tr>\n",
       "\t<tr><td>136.75000</td><td>57.17845</td><td>-0.06841464</td><td>-0.6362384</td><td>3.6429766</td><td>20.959280</td><td> 6.896499</td><td> 53.59366</td><td>0</td></tr>\n",
       "\t<tr><td> 88.72656</td><td>40.67223</td><td> 0.60086608</td><td> 1.1234917</td><td>1.1789298</td><td>11.468720</td><td>14.269573</td><td>252.56731</td><td>0</td></tr>\n",
       "\t<tr><td> 93.57031</td><td>46.69811</td><td> 0.53190485</td><td> 0.4167211</td><td>1.6362876</td><td>14.545074</td><td>10.621748</td><td>131.39400</td><td>0</td></tr>\n",
       "\t<tr><td>119.48438</td><td>48.76506</td><td> 0.03146022</td><td>-0.1121676</td><td>0.9991639</td><td> 9.279612</td><td>19.206230</td><td>479.75657</td><td>0</td></tr>\n",
       "\t<tr><td>130.38281</td><td>39.84406</td><td>-0.15832276</td><td> 0.3895404</td><td>1.2207358</td><td>14.378941</td><td>13.539456</td><td>198.23646</td><td>0</td></tr>\n",
       "\t<tr><td>107.25000</td><td>52.62708</td><td> 0.45268802</td><td> 0.1703474</td><td>2.3319398</td><td>14.486853</td><td> 9.001004</td><td>107.97251</td><td>0</td></tr>\n",
       "\t<tr><td>107.25781</td><td>39.49649</td><td> 0.46588196</td><td> 1.1628771</td><td>4.0794314</td><td>24.980418</td><td> 7.397080</td><td> 57.78474</td><td>0</td></tr>\n",
       "</tbody>\n",
       "</table>\n"
      ],
      "text/latex": [
       "A tibble: 10 × 9\n",
       "\\begin{tabular}{lllllllll}\n",
       " mean\\_ip & std\\_ip & ek\\_ip & sk\\_ip & mean\\_dmsnr & std\\_dmsnr & ek\\_dmsnr & sk\\_dmsnr & class\\\\\n",
       " <dbl> & <dbl> & <dbl> & <dbl> & <dbl> & <dbl> & <dbl> & <dbl> & <fct>\\\\\n",
       "\\hline\n",
       "\t 140.56250 & 55.68378 & -0.23457141 & -0.6996484 & 3.1998328 & 19.110426 &  7.975532 &  74.24222 & 0\\\\\n",
       "\t 102.50781 & 58.88243 &  0.46531815 & -0.5150879 & 1.6772575 & 14.860146 & 10.576487 & 127.39358 & 0\\\\\n",
       "\t 103.01562 & 39.34165 &  0.32332837 &  1.0511644 & 3.1212375 & 21.744669 &  7.735822 &  63.17191 & 0\\\\\n",
       "\t 136.75000 & 57.17845 & -0.06841464 & -0.6362384 & 3.6429766 & 20.959280 &  6.896499 &  53.59366 & 0\\\\\n",
       "\t  88.72656 & 40.67223 &  0.60086608 &  1.1234917 & 1.1789298 & 11.468720 & 14.269573 & 252.56731 & 0\\\\\n",
       "\t  93.57031 & 46.69811 &  0.53190485 &  0.4167211 & 1.6362876 & 14.545074 & 10.621748 & 131.39400 & 0\\\\\n",
       "\t 119.48438 & 48.76506 &  0.03146022 & -0.1121676 & 0.9991639 &  9.279612 & 19.206230 & 479.75657 & 0\\\\\n",
       "\t 130.38281 & 39.84406 & -0.15832276 &  0.3895404 & 1.2207358 & 14.378941 & 13.539456 & 198.23646 & 0\\\\\n",
       "\t 107.25000 & 52.62708 &  0.45268802 &  0.1703474 & 2.3319398 & 14.486853 &  9.001004 & 107.97251 & 0\\\\\n",
       "\t 107.25781 & 39.49649 &  0.46588196 &  1.1628771 & 4.0794314 & 24.980418 &  7.397080 &  57.78474 & 0\\\\\n",
       "\\end{tabular}\n"
      ],
      "text/markdown": [
       "\n",
       "A tibble: 10 × 9\n",
       "\n",
       "| mean_ip &lt;dbl&gt; | std_ip &lt;dbl&gt; | ek_ip &lt;dbl&gt; | sk_ip &lt;dbl&gt; | mean_dmsnr &lt;dbl&gt; | std_dmsnr &lt;dbl&gt; | ek_dmsnr &lt;dbl&gt; | sk_dmsnr &lt;dbl&gt; | class &lt;fct&gt; |\n",
       "|---|---|---|---|---|---|---|---|---|\n",
       "| 140.56250 | 55.68378 | -0.23457141 | -0.6996484 | 3.1998328 | 19.110426 |  7.975532 |  74.24222 | 0 |\n",
       "| 102.50781 | 58.88243 |  0.46531815 | -0.5150879 | 1.6772575 | 14.860146 | 10.576487 | 127.39358 | 0 |\n",
       "| 103.01562 | 39.34165 |  0.32332837 |  1.0511644 | 3.1212375 | 21.744669 |  7.735822 |  63.17191 | 0 |\n",
       "| 136.75000 | 57.17845 | -0.06841464 | -0.6362384 | 3.6429766 | 20.959280 |  6.896499 |  53.59366 | 0 |\n",
       "|  88.72656 | 40.67223 |  0.60086608 |  1.1234917 | 1.1789298 | 11.468720 | 14.269573 | 252.56731 | 0 |\n",
       "|  93.57031 | 46.69811 |  0.53190485 |  0.4167211 | 1.6362876 | 14.545074 | 10.621748 | 131.39400 | 0 |\n",
       "| 119.48438 | 48.76506 |  0.03146022 | -0.1121676 | 0.9991639 |  9.279612 | 19.206230 | 479.75657 | 0 |\n",
       "| 130.38281 | 39.84406 | -0.15832276 |  0.3895404 | 1.2207358 | 14.378941 | 13.539456 | 198.23646 | 0 |\n",
       "| 107.25000 | 52.62708 |  0.45268802 |  0.1703474 | 2.3319398 | 14.486853 |  9.001004 | 107.97251 | 0 |\n",
       "| 107.25781 | 39.49649 |  0.46588196 |  1.1628771 | 4.0794314 | 24.980418 |  7.397080 |  57.78474 | 0 |\n",
       "\n"
      ],
      "text/plain": [
       "   mean_ip   std_ip   ek_ip       sk_ip      mean_dmsnr std_dmsnr ek_dmsnr \n",
       "1  140.56250 55.68378 -0.23457141 -0.6996484 3.1998328  19.110426  7.975532\n",
       "2  102.50781 58.88243  0.46531815 -0.5150879 1.6772575  14.860146 10.576487\n",
       "3  103.01562 39.34165  0.32332837  1.0511644 3.1212375  21.744669  7.735822\n",
       "4  136.75000 57.17845 -0.06841464 -0.6362384 3.6429766  20.959280  6.896499\n",
       "5   88.72656 40.67223  0.60086608  1.1234917 1.1789298  11.468720 14.269573\n",
       "6   93.57031 46.69811  0.53190485  0.4167211 1.6362876  14.545074 10.621748\n",
       "7  119.48438 48.76506  0.03146022 -0.1121676 0.9991639   9.279612 19.206230\n",
       "8  130.38281 39.84406 -0.15832276  0.3895404 1.2207358  14.378941 13.539456\n",
       "9  107.25000 52.62708  0.45268802  0.1703474 2.3319398  14.486853  9.001004\n",
       "10 107.25781 39.49649  0.46588196  1.1628771 4.0794314  24.980418  7.397080\n",
       "   sk_dmsnr  class\n",
       "1   74.24222 0    \n",
       "2  127.39358 0    \n",
       "3   63.17191 0    \n",
       "4   53.59366 0    \n",
       "5  252.56731 0    \n",
       "6  131.39400 0    \n",
       "7  479.75657 0    \n",
       "8  198.23646 0    \n",
       "9  107.97251 0    \n",
       "10  57.78474 0    "
      ]
     },
     "metadata": {},
     "output_type": "display_data"
    }
   ],
   "source": [
    "# Adding the column names to the dataset because they originally did not exist\n",
    "columns <- c(\"mean_ip\", \"std_ip\", \"ek_ip\", \"sk_ip\", \"mean_dmsnr\", \"std_dmsnr\", \"ek_dmsnr\", \"sk_dmsnr\", \"class\")\n",
    "\n",
    "# reading the data, and converting class to factor type\n",
    "pulsar_data <- read_csv(\"https://raw.githubusercontent.com/audst/dsci100-s005-group10/main/data/HTRU_2.csv\", col_names = columns) |>\n",
    "                    mutate(class = as.factor(class))\n",
    "\n",
    "print(\"Table 1\")\n",
    "head(pulsar_data, 10)"
   ]
  },
  {
   "cell_type": "markdown",
   "id": "48b92864",
   "metadata": {},
   "source": [
    "Next, we can select the columns that we plan to use as the predictors, namely mean_ip, std_ip, ek_ip, and sk_ip, along with the class column."
   ]
  },
  {
   "cell_type": "code",
   "execution_count": 3,
   "id": "6c3bb9d6",
   "metadata": {},
   "outputs": [
    {
     "name": "stdout",
     "output_type": "stream",
     "text": [
      "[1] \"Table 2\"\n"
     ]
    },
    {
     "data": {
      "text/html": [
       "<table class=\"dataframe\">\n",
       "<caption>A tibble: 5 × 5</caption>\n",
       "<thead>\n",
       "\t<tr><th scope=col>mean_ip</th><th scope=col>std_ip</th><th scope=col>ek_ip</th><th scope=col>sk_ip</th><th scope=col>class</th></tr>\n",
       "\t<tr><th scope=col>&lt;dbl&gt;</th><th scope=col>&lt;dbl&gt;</th><th scope=col>&lt;dbl&gt;</th><th scope=col>&lt;dbl&gt;</th><th scope=col>&lt;fct&gt;</th></tr>\n",
       "</thead>\n",
       "<tbody>\n",
       "\t<tr><td>140.56250</td><td>55.68378</td><td>-0.23457141</td><td>-0.6996484</td><td>0</td></tr>\n",
       "\t<tr><td>102.50781</td><td>58.88243</td><td> 0.46531815</td><td>-0.5150879</td><td>0</td></tr>\n",
       "\t<tr><td>103.01562</td><td>39.34165</td><td> 0.32332837</td><td> 1.0511644</td><td>0</td></tr>\n",
       "\t<tr><td>136.75000</td><td>57.17845</td><td>-0.06841464</td><td>-0.6362384</td><td>0</td></tr>\n",
       "\t<tr><td> 88.72656</td><td>40.67223</td><td> 0.60086608</td><td> 1.1234917</td><td>0</td></tr>\n",
       "</tbody>\n",
       "</table>\n"
      ],
      "text/latex": [
       "A tibble: 5 × 5\n",
       "\\begin{tabular}{lllll}\n",
       " mean\\_ip & std\\_ip & ek\\_ip & sk\\_ip & class\\\\\n",
       " <dbl> & <dbl> & <dbl> & <dbl> & <fct>\\\\\n",
       "\\hline\n",
       "\t 140.56250 & 55.68378 & -0.23457141 & -0.6996484 & 0\\\\\n",
       "\t 102.50781 & 58.88243 &  0.46531815 & -0.5150879 & 0\\\\\n",
       "\t 103.01562 & 39.34165 &  0.32332837 &  1.0511644 & 0\\\\\n",
       "\t 136.75000 & 57.17845 & -0.06841464 & -0.6362384 & 0\\\\\n",
       "\t  88.72656 & 40.67223 &  0.60086608 &  1.1234917 & 0\\\\\n",
       "\\end{tabular}\n"
      ],
      "text/markdown": [
       "\n",
       "A tibble: 5 × 5\n",
       "\n",
       "| mean_ip &lt;dbl&gt; | std_ip &lt;dbl&gt; | ek_ip &lt;dbl&gt; | sk_ip &lt;dbl&gt; | class &lt;fct&gt; |\n",
       "|---|---|---|---|---|\n",
       "| 140.56250 | 55.68378 | -0.23457141 | -0.6996484 | 0 |\n",
       "| 102.50781 | 58.88243 |  0.46531815 | -0.5150879 | 0 |\n",
       "| 103.01562 | 39.34165 |  0.32332837 |  1.0511644 | 0 |\n",
       "| 136.75000 | 57.17845 | -0.06841464 | -0.6362384 | 0 |\n",
       "|  88.72656 | 40.67223 |  0.60086608 |  1.1234917 | 0 |\n",
       "\n"
      ],
      "text/plain": [
       "  mean_ip   std_ip   ek_ip       sk_ip      class\n",
       "1 140.56250 55.68378 -0.23457141 -0.6996484 0    \n",
       "2 102.50781 58.88243  0.46531815 -0.5150879 0    \n",
       "3 103.01562 39.34165  0.32332837  1.0511644 0    \n",
       "4 136.75000 57.17845 -0.06841464 -0.6362384 0    \n",
       "5  88.72656 40.67223  0.60086608  1.1234917 0    "
      ]
     },
     "metadata": {},
     "output_type": "display_data"
    }
   ],
   "source": [
    "pulsar_data_pred <- pulsar_data |>\n",
    "                        select(mean_ip, std_ip, ek_ip, sk_ip, class)\n",
    "\n",
    "print(\"Table 2\")\n",
    "head(pulsar_data_pred, 5)"
   ]
  },
  {
   "cell_type": "markdown",
   "id": "206e5240",
   "metadata": {},
   "source": [
    "We now have to scale all the potential predictor variables so that the prediction is not influenced by the different scales of all the predictors, thus avoiding inaccurate predictions."
   ]
  },
  {
   "cell_type": "code",
   "execution_count": 4,
   "id": "c4872b5a",
   "metadata": {},
   "outputs": [
    {
     "name": "stdout",
     "output_type": "stream",
     "text": [
      "[1] \"Table 3\"\n"
     ]
    },
    {
     "data": {
      "text/html": [
       "<table class=\"dataframe\">\n",
       "<caption>A tibble: 10 × 5</caption>\n",
       "<thead>\n",
       "\t<tr><th scope=col>class</th><th scope=col>mean_ip_scaled</th><th scope=col>std_ip_scaled</th><th scope=col>ek_ip_scaled</th><th scope=col>sk_ip_scaled</th></tr>\n",
       "\t<tr><th scope=col>&lt;fct&gt;</th><th scope=col>&lt;dbl[,1]&gt;</th><th scope=col>&lt;dbl[,1]&gt;</th><th scope=col>&lt;dbl[,1]&gt;</th><th scope=col>&lt;dbl[,1]&gt;</th></tr>\n",
       "</thead>\n",
       "<tbody>\n",
       "\t<tr><td>0</td><td> 1.1492849</td><td> 1.33479435</td><td>-0.66955083</td><td>-0.40044782</td></tr>\n",
       "\t<tr><td>0</td><td>-0.3341589</td><td> 1.80221498</td><td>-0.01178443</td><td>-0.37052514</td></tr>\n",
       "\t<tr><td>0</td><td>-0.3143634</td><td>-1.05329280</td><td>-0.14522850</td><td>-0.11658960</td></tr>\n",
       "\t<tr><td>0</td><td> 1.0006664</td><td> 1.55321102</td><td>-0.51339427</td><td>-0.39016719</td></tr>\n",
       "\t<tr><td>0</td><td>-0.8713781</td><td>-0.85885481</td><td> 0.11560548</td><td>-0.10486323</td></tr>\n",
       "\t<tr><td>0</td><td>-0.6825595</td><td> 0.02171238</td><td> 0.05079471</td><td>-0.21945151</td></tr>\n",
       "\t<tr><td>0</td><td> 0.3276197</td><td> 0.32375660</td><td>-0.41953043</td><td>-0.30519991</td></tr>\n",
       "\t<tr><td>0</td><td> 0.7524614</td><td>-0.97987584</td><td>-0.59789123</td><td>-0.22385830</td></tr>\n",
       "\t<tr><td>0</td><td>-0.1492994</td><td> 0.88811611</td><td>-0.02365441</td><td>-0.25939593</td></tr>\n",
       "\t<tr><td>0</td><td>-0.1489949</td><td>-1.03066608</td><td>-0.01125456</td><td>-0.09847769</td></tr>\n",
       "</tbody>\n",
       "</table>\n"
      ],
      "text/latex": [
       "A tibble: 10 × 5\n",
       "\\begin{tabular}{lllll}\n",
       " class & mean\\_ip\\_scaled & std\\_ip\\_scaled & ek\\_ip\\_scaled & sk\\_ip\\_scaled\\\\\n",
       " <fct> & <dbl{[},1{]}> & <dbl{[},1{]}> & <dbl{[},1{]}> & <dbl{[},1{]}>\\\\\n",
       "\\hline\n",
       "\t 0 &  1.1492849 &  1.33479435 & -0.66955083 & -0.40044782\\\\\n",
       "\t 0 & -0.3341589 &  1.80221498 & -0.01178443 & -0.37052514\\\\\n",
       "\t 0 & -0.3143634 & -1.05329280 & -0.14522850 & -0.11658960\\\\\n",
       "\t 0 &  1.0006664 &  1.55321102 & -0.51339427 & -0.39016719\\\\\n",
       "\t 0 & -0.8713781 & -0.85885481 &  0.11560548 & -0.10486323\\\\\n",
       "\t 0 & -0.6825595 &  0.02171238 &  0.05079471 & -0.21945151\\\\\n",
       "\t 0 &  0.3276197 &  0.32375660 & -0.41953043 & -0.30519991\\\\\n",
       "\t 0 &  0.7524614 & -0.97987584 & -0.59789123 & -0.22385830\\\\\n",
       "\t 0 & -0.1492994 &  0.88811611 & -0.02365441 & -0.25939593\\\\\n",
       "\t 0 & -0.1489949 & -1.03066608 & -0.01125456 & -0.09847769\\\\\n",
       "\\end{tabular}\n"
      ],
      "text/markdown": [
       "\n",
       "A tibble: 10 × 5\n",
       "\n",
       "| class &lt;fct&gt; | mean_ip_scaled &lt;dbl[,1]&gt; | std_ip_scaled &lt;dbl[,1]&gt; | ek_ip_scaled &lt;dbl[,1]&gt; | sk_ip_scaled &lt;dbl[,1]&gt; |\n",
       "|---|---|---|---|---|\n",
       "| 0 |  1.1492849 |  1.33479435 | -0.66955083 | -0.40044782 |\n",
       "| 0 | -0.3341589 |  1.80221498 | -0.01178443 | -0.37052514 |\n",
       "| 0 | -0.3143634 | -1.05329280 | -0.14522850 | -0.11658960 |\n",
       "| 0 |  1.0006664 |  1.55321102 | -0.51339427 | -0.39016719 |\n",
       "| 0 | -0.8713781 | -0.85885481 |  0.11560548 | -0.10486323 |\n",
       "| 0 | -0.6825595 |  0.02171238 |  0.05079471 | -0.21945151 |\n",
       "| 0 |  0.3276197 |  0.32375660 | -0.41953043 | -0.30519991 |\n",
       "| 0 |  0.7524614 | -0.97987584 | -0.59789123 | -0.22385830 |\n",
       "| 0 | -0.1492994 |  0.88811611 | -0.02365441 | -0.25939593 |\n",
       "| 0 | -0.1489949 | -1.03066608 | -0.01125456 | -0.09847769 |\n",
       "\n"
      ],
      "text/plain": [
       "   class mean_ip_scaled std_ip_scaled ek_ip_scaled sk_ip_scaled\n",
       "1  0      1.1492849      1.33479435   -0.66955083  -0.40044782 \n",
       "2  0     -0.3341589      1.80221498   -0.01178443  -0.37052514 \n",
       "3  0     -0.3143634     -1.05329280   -0.14522850  -0.11658960 \n",
       "4  0      1.0006664      1.55321102   -0.51339427  -0.39016719 \n",
       "5  0     -0.8713781     -0.85885481    0.11560548  -0.10486323 \n",
       "6  0     -0.6825595      0.02171238    0.05079471  -0.21945151 \n",
       "7  0      0.3276197      0.32375660   -0.41953043  -0.30519991 \n",
       "8  0      0.7524614     -0.97987584   -0.59789123  -0.22385830 \n",
       "9  0     -0.1492994      0.88811611   -0.02365441  -0.25939593 \n",
       "10 0     -0.1489949     -1.03066608   -0.01125456  -0.09847769 "
      ]
     },
     "metadata": {},
     "output_type": "display_data"
    }
   ],
   "source": [
    "pulsar_scaled <- pulsar_data_pred |>\n",
    "                    mutate(mean_ip_scaled = scale(mean_ip, center=TRUE)) |>\n",
    "                    mutate(std_ip_scaled = scale(std_ip, center=TRUE)) |>\n",
    "                    mutate(ek_ip_scaled = scale(ek_ip, center=TRUE)) |>\n",
    "                    mutate(sk_ip_scaled = scale(sk_ip, center=TRUE)) |>\n",
    "                    select(class:sk_ip_scaled)\n",
    "\n",
    "print(\"Table 3\")\n",
    "head(pulsar_scaled, 10)"
   ]
  },
  {
   "cell_type": "markdown",
   "id": "1dd5988a",
   "metadata": {},
   "source": [
    "Now we can continue with splitting 75% of our data into training and and 25% testing."
   ]
  },
  {
   "cell_type": "code",
   "execution_count": 9,
   "id": "5ed3a198",
   "metadata": {},
   "outputs": [],
   "source": [
    "set.seed(100)\n",
    "\n",
    "pulsar_split <- pulsar_scaled |>\n",
    "                    initial_split(prop=3/4, strata=class)\n",
    "pulsar_training <- training(pulsar_split)\n",
    "pulsar_testing <- testing(pulsar_split)"
   ]
  },
  {
   "cell_type": "markdown",
   "id": "7c3cbcda",
   "metadata": {},
   "source": [
    "We can now see if we have any missing data in our training set"
   ]
  },
  {
   "cell_type": "code",
   "execution_count": 6,
   "id": "f54028f7",
   "metadata": {},
   "outputs": [
    {
     "name": "stdout",
     "output_type": "stream",
     "text": [
      "[1] \"Table 4\"\n"
     ]
    },
    {
     "data": {
      "text/html": [
       "<table class=\"dataframe\">\n",
       "<caption>A tibble: 1 × 5</caption>\n",
       "<thead>\n",
       "\t<tr><th scope=col>class</th><th scope=col>mean_ip_scaled</th><th scope=col>std_ip_scaled</th><th scope=col>ek_ip_scaled</th><th scope=col>sk_ip_scaled</th></tr>\n",
       "\t<tr><th scope=col>&lt;int&gt;</th><th scope=col>&lt;int&gt;</th><th scope=col>&lt;int&gt;</th><th scope=col>&lt;int&gt;</th><th scope=col>&lt;int&gt;</th></tr>\n",
       "</thead>\n",
       "<tbody>\n",
       "\t<tr><td>0</td><td>0</td><td>0</td><td>0</td><td>0</td></tr>\n",
       "</tbody>\n",
       "</table>\n"
      ],
      "text/latex": [
       "A tibble: 1 × 5\n",
       "\\begin{tabular}{lllll}\n",
       " class & mean\\_ip\\_scaled & std\\_ip\\_scaled & ek\\_ip\\_scaled & sk\\_ip\\_scaled\\\\\n",
       " <int> & <int> & <int> & <int> & <int>\\\\\n",
       "\\hline\n",
       "\t 0 & 0 & 0 & 0 & 0\\\\\n",
       "\\end{tabular}\n"
      ],
      "text/markdown": [
       "\n",
       "A tibble: 1 × 5\n",
       "\n",
       "| class &lt;int&gt; | mean_ip_scaled &lt;int&gt; | std_ip_scaled &lt;int&gt; | ek_ip_scaled &lt;int&gt; | sk_ip_scaled &lt;int&gt; |\n",
       "|---|---|---|---|---|\n",
       "| 0 | 0 | 0 | 0 | 0 |\n",
       "\n"
      ],
      "text/plain": [
       "  class mean_ip_scaled std_ip_scaled ek_ip_scaled sk_ip_scaled\n",
       "1 0     0              0             0            0           "
      ]
     },
     "metadata": {},
     "output_type": "display_data"
    }
   ],
   "source": [
    "n_rows_missing_data <- pulsar_training |>\n",
    "                          map_df(~sum(is.na(.)))\n",
    "\n",
    "print(\"Table 4\")\n",
    "n_rows_missing_data"
   ]
  },
  {
   "cell_type": "markdown",
   "id": "39ecfb2d",
   "metadata": {},
   "source": [
    "Fortunately, we can see that we do not have empty data to deal with, so we can proceed to find out how many observations exist for each class in our training set."
   ]
  },
  {
   "cell_type": "code",
   "execution_count": 7,
   "id": "0f931515",
   "metadata": {},
   "outputs": [
    {
     "name": "stdout",
     "output_type": "stream",
     "text": [
      "[1] \"Table 5\"\n"
     ]
    },
    {
     "data": {
      "text/html": [
       "<table class=\"dataframe\">\n",
       "<caption>A tibble: 2 × 2</caption>\n",
       "<thead>\n",
       "\t<tr><th scope=col>class</th><th scope=col>count</th></tr>\n",
       "\t<tr><th scope=col>&lt;fct&gt;</th><th scope=col>&lt;int&gt;</th></tr>\n",
       "</thead>\n",
       "<tbody>\n",
       "\t<tr><td>0</td><td>12182</td></tr>\n",
       "\t<tr><td>1</td><td> 1241</td></tr>\n",
       "</tbody>\n",
       "</table>\n"
      ],
      "text/latex": [
       "A tibble: 2 × 2\n",
       "\\begin{tabular}{ll}\n",
       " class & count\\\\\n",
       " <fct> & <int>\\\\\n",
       "\\hline\n",
       "\t 0 & 12182\\\\\n",
       "\t 1 &  1241\\\\\n",
       "\\end{tabular}\n"
      ],
      "text/markdown": [
       "\n",
       "A tibble: 2 × 2\n",
       "\n",
       "| class &lt;fct&gt; | count &lt;int&gt; |\n",
       "|---|---|\n",
       "| 0 | 12182 |\n",
       "| 1 |  1241 |\n",
       "\n"
      ],
      "text/plain": [
       "  class count\n",
       "1 0     12182\n",
       "2 1      1241"
      ]
     },
     "metadata": {},
     "output_type": "display_data"
    }
   ],
   "source": [
    "class_counts <- pulsar_training |>\n",
    "                    group_by(class) |>\n",
    "                    dplyr::summarize(count = n())\n",
    "\n",
    "print(\"Table 5\")\n",
    "class_counts"
   ]
  },
  {
   "cell_type": "markdown",
   "id": "ae6ae474",
   "metadata": {},
   "source": [
    "Here, we notice that there is an overwhelming majority of observations with class 0, which shows how difficult it is to detect pulsars among the rest of the noise and radio frequencies. \n",
    "Now we find the means of all our predictor variables based on the two classes."
   ]
  },
  {
   "cell_type": "code",
   "execution_count": 10,
   "id": "99aee3be",
   "metadata": {},
   "outputs": [
    {
     "name": "stdout",
     "output_type": "stream",
     "text": [
      "[1] \"Table 6\"\n"
     ]
    },
    {
     "data": {
      "text/html": [
       "<table class=\"dataframe\">\n",
       "<caption>A tibble: 2 × 5</caption>\n",
       "<thead>\n",
       "\t<tr><th scope=col>class</th><th scope=col>mean_ip_scaled</th><th scope=col>std_ip_scaled</th><th scope=col>ek_ip_scaled</th><th scope=col>sk_ip_scaled</th></tr>\n",
       "\t<tr><th scope=col>&lt;fct&gt;</th><th scope=col>&lt;dbl&gt;</th><th scope=col>&lt;dbl&gt;</th><th scope=col>&lt;dbl&gt;</th><th scope=col>&lt;dbl&gt;</th></tr>\n",
       "</thead>\n",
       "<tbody>\n",
       "\t<tr><td>0</td><td> 0.2081899</td><td> 0.116493</td><td>-0.2499686</td><td>-0.2245242</td></tr>\n",
       "\t<tr><td>1</td><td>-2.1213040</td><td>-1.137280</td><td> 2.4894519</td><td> 2.2201626</td></tr>\n",
       "</tbody>\n",
       "</table>\n"
      ],
      "text/latex": [
       "A tibble: 2 × 5\n",
       "\\begin{tabular}{lllll}\n",
       " class & mean\\_ip\\_scaled & std\\_ip\\_scaled & ek\\_ip\\_scaled & sk\\_ip\\_scaled\\\\\n",
       " <fct> & <dbl> & <dbl> & <dbl> & <dbl>\\\\\n",
       "\\hline\n",
       "\t 0 &  0.2081899 &  0.116493 & -0.2499686 & -0.2245242\\\\\n",
       "\t 1 & -2.1213040 & -1.137280 &  2.4894519 &  2.2201626\\\\\n",
       "\\end{tabular}\n"
      ],
      "text/markdown": [
       "\n",
       "A tibble: 2 × 5\n",
       "\n",
       "| class &lt;fct&gt; | mean_ip_scaled &lt;dbl&gt; | std_ip_scaled &lt;dbl&gt; | ek_ip_scaled &lt;dbl&gt; | sk_ip_scaled &lt;dbl&gt; |\n",
       "|---|---|---|---|---|\n",
       "| 0 |  0.2081899 |  0.116493 | -0.2499686 | -0.2245242 |\n",
       "| 1 | -2.1213040 | -1.137280 |  2.4894519 |  2.2201626 |\n",
       "\n"
      ],
      "text/plain": [
       "  class mean_ip_scaled std_ip_scaled ek_ip_scaled sk_ip_scaled\n",
       "1 0      0.2081899      0.116493     -0.2499686   -0.2245242  \n",
       "2 1     -2.1213040     -1.137280      2.4894519    2.2201626  "
      ]
     },
     "metadata": {},
     "output_type": "display_data"
    }
   ],
   "source": [
    "means <- pulsar_training |>\n",
    "            group_by(class) |>\n",
    "            summarize_at(vars(\"mean_ip_scaled\", \"std_ip_scaled\", \"ek_ip_scaled\", \"sk_ip_scaled\"), mean)\n",
    "\n",
    "print(\"Table 6\")\n",
    "means"
   ]
  },
  {
   "cell_type": "markdown",
   "id": "5c3c1407",
   "metadata": {},
   "source": [
    "Above, we see that the means of the variables vary extensively for the different classes. This reaffirms our choice of predictor variables as the model will be able to predict the different classes with a greater accuracy and less indistinctness. \n",
    "Now we can create a series of plots to find out the relation of the different variables with the class. Each plot matches one predictor variable with another to demonstrate any visual trends that are otherwise unnoticeable. "
   ]
  },
  {
   "cell_type": "code",
   "execution_count": 11,
   "id": "b2c04806",
   "metadata": {},
   "outputs": [
    {
     "ename": "ERROR",
     "evalue": "Error in plot_grid(mean_ip_vs_std_ip, mean_ip_vs_ek_ip, mean_ip_vs_sk_ip, : could not find function \"plot_grid\"\n",
     "output_type": "error",
     "traceback": [
      "Error in plot_grid(mean_ip_vs_std_ip, mean_ip_vs_ek_ip, mean_ip_vs_sk_ip, : could not find function \"plot_grid\"\nTraceback:\n"
     ]
    }
   ],
   "source": [
    "options(repr.plot.width = 23, repr.plot.height = 12)\n",
    "\n",
    "mean_ip_vs_std_ip <- pulsar_training |>\n",
    "                        ggplot(aes(x=mean_ip_scaled, y=std_ip_scaled, color=class)) +\n",
    "                        geom_point(alpha = 0.3) +\n",
    "                        labs(x=\"Mean of Integrated Profile Scaled\", \n",
    "                             y=\"Standard Deviation of Integrated Profile Scaled\", \n",
    "                             color=\"Class\", \n",
    "                             title=\"[Figure 1] Distribution of Standard Deviation and Mean of Integrated Profile\") +\n",
    "                        theme(text = element_text(size = 11))\n",
    "\n",
    "mean_ip_vs_ek_ip <- pulsar_training |>\n",
    "                        ggplot(aes(x=mean_ip_scaled, y=ek_ip_scaled, color=class)) +\n",
    "                        geom_point(alpha = 0.3) +\n",
    "                        labs(x=\"Mean of Integrated Profile Scaled\", \n",
    "                             y=\"Excess Kurtosis of Integrated Profile Scaled\", \n",
    "                             color=\"Class\", \n",
    "                             title=\"[Figure 2] Distribution of Excess Kurtosis and Mean of Integrated Profile\") +\n",
    "                        theme(text = element_text(size = 11))\n",
    "\n",
    "mean_ip_vs_sk_ip <- pulsar_training |>\n",
    "                        ggplot(aes(x=mean_ip_scaled, y=sk_ip_scaled, color=class)) +\n",
    "                        geom_point(alpha = 0.3) +\n",
    "                        labs(x=\"Mean of Integrated Profile Scaled\", \n",
    "                             y=\"Skewness of Integrated Profile Scaled\", \n",
    "                             color=\"Class\", \n",
    "                             title=\"[Figure 3] Distribution of Skewness and Mean of Integrated Profile\") +\n",
    "                        theme(text = element_text(size = 11))\n",
    "\n",
    "std_ip_vs_ek_ip <- pulsar_training |>\n",
    "                        ggplot(aes(x=std_ip_scaled, y=ek_ip_scaled, color=class)) +\n",
    "                        geom_point(alpha = 0.3) +\n",
    "                        labs(x=\"Standard Deviation of Integrated Profile Scaled\", \n",
    "                             y=\"Excess Kurtosis of Integrated Profile Scaled\", \n",
    "                             color=\"Class\", \n",
    "                             title=\"[Figure 4] Distribution of Standard Deviation and Excess Kurtosis of Integrated Profile\") +\n",
    "                        theme(text = element_text(size = 11))\n",
    "\n",
    "std_ip_vs_sk_ip <- pulsar_training |>\n",
    "                        ggplot(aes(x=std_ip_scaled, y=sk_ip_scaled, color=class)) +\n",
    "                        geom_point(alpha = 0.3) +\n",
    "                        labs(x=\"Standard Deviation of Integrated Profile Scaled\", \n",
    "                             y=\"Skewness of Integrated Profile Scaled\", \n",
    "                             color=\"Class\", \n",
    "                             title=\"[Figure 5] Distribution of Standard Deviation and Skewness of Integrated Profile\") +\n",
    "                        theme(text = element_text(size = 11))\n",
    "\n",
    "ek_ip_vs_sk_ip <- pulsar_training |>\n",
    "                        ggplot(aes(x=ek_ip_scaled, y=sk_ip_scaled, color=class)) +\n",
    "                        geom_point(alpha = 0.3) +\n",
    "                        labs(x=\"Excess Kurtosis of Integrated Profile Scaled\", \n",
    "                             y=\"Skewness of Integrated Profile Scaled\", \n",
    "                             color=\"Class\", \n",
    "                             title=\"[Figure 6] Distribution of Excess Kurtosis and Skewness of Integrated Profile\") +\n",
    "                        theme(text = element_text(size = 11))\n",
    "\n",
    "plot_grid(\n",
    "     mean_ip_vs_std_ip, mean_ip_vs_ek_ip, mean_ip_vs_sk_ip, std_ip_vs_ek_ip, std_ip_vs_sk_ip, ek_ip_vs_sk_ip,  \n",
    "     align=\"hv\"\n",
    " )"
   ]
  },
  {
   "cell_type": "code",
   "execution_count": null,
   "id": "22aa4d39-11d9-44ff-88e3-d609b8277af9",
   "metadata": {},
   "outputs": [],
   "source": [
    "options(repr.plot.width = 20, repr.plot.height = 20)\n",
    "\n",
    "pairs_plot <- pulsar_training |>\n",
    "                ggpairs(aes(color=class)) +\n",
    "                ggtitle(\"[Figure 7]\")\n",
    "                labs(color=class) +\n",
    "                theme(text=element_text(size=30))\n",
    " \n",
    "pairs_plot"
   ]
  },
  {
   "cell_type": "markdown",
   "id": "44d39615-e661-4493-90b9-0eb1cf3b4dc0",
   "metadata": {},
   "source": [
    "### Analyzing the graphs and choosing the final predictor variables\n",
    "\n",
    "In the plots above, we see that the scatters of all the predictors have minuscule overlap between our two classes. Thus, we can go ahead and choose all four of these as our final predictor variables, namely mean_ip, std_ip, ek_ip and sk_ip. Even the box plots in the second image show that the overlap between the two classes for the same variable are very small and that these four predictors should be ideal for training our model with. We want to decrease the overlap between the two classes for all variables as to get more distinct and significant predictors. \n",
    "\n",
    "Moreover, we notice in the top right bar graph of the second image between the two classes that the class 1 has very few instances compared to class 2. This rarity of class 1 can make the model more biased towards predicting the class 0 more, thus we will have to fix this issue by upsampling the class 1."
   ]
  },
  {
   "cell_type": "markdown",
   "id": "195d48c6-db0a-42d6-81d4-3f3d1aa9b235",
   "metadata": {},
   "source": [
    "## Training the model\n",
    "\n",
    "Now, we use $K$-nearest neighbors classification and cross validation of 5 folds in order to train our data. Firstly, we will tune the number of neighbors to find the ideal value for $K$. We will thus test for all values of $K$ from 1 to 100 in steps of 10."
   ]
  },
  {
   "cell_type": "code",
   "execution_count": null,
   "id": "7dc5f605-fd35-4b6c-a1e3-b62da8b37bd7",
   "metadata": {},
   "outputs": [],
   "source": [
    "pulsar_upsampled_recipe <- recipe(class ~ mean_ip_scaled, std_ip_scaled, ek_ip_scaled, sk_ip_scaled, data=pulsar_training) |>\n",
    "                              step_upsample(class, over_ratio=1, skip=FALSE) |>\n",
    "                              prep()\n",
    "\n",
    "pulsar_upsampled <- bake(pulsar_upsampled_recipe, pulsar_training)\n",
    "\n",
    "pulsar_recipe <- recipe(class ~ mean_ip_scaled, std_ip_scaled, ek_ip_scaled, sk_ip_scaled, data=pulsar_upsampled) |>\n",
    "                    step_scale(all_predictors()) |>  \n",
    "                    step_center(all_predictors())\n",
    "\n",
    "knn_tune <- nearest_neighbor(weight_func=\"rectangular\", neighbors=tune()) |>\n",
    "                        set_engine(\"kknn\") |>\n",
    "                        set_mode(\"classification\")\n",
    "\n",
    "pulsar_vfold <- vfold_cv(pulsar_upsampled, v=5, strata=class)\n",
    "\n",
    "gridvals <- tibble(neighbors=seq(from=1, to=100, by=10))\n",
    "\n",
    "pulsar_workflow <- workflow() |>\n",
    "                       add_recipe(pulsar_recipe) |>\n",
    "                       add_model(knn_tune) |>\n",
    "                       tune_grid(resamples=pulsar_vfold, grid=gridvals) |>\n",
    "                       collect_metrics()\n",
    "\n",
    "knn_tune"
   ]
  },
  {
   "cell_type": "code",
   "execution_count": null,
   "id": "9e71bb9a-bba3-4bd2-b67d-f9ed919f767e",
   "metadata": {},
   "outputs": [],
   "source": [
    "classes_in_upsampled <- pulsar_upsampled |>\n",
    "                            group_by(class) |>\n",
    "                            summarize(count = n())\n",
    "\n",
    "print(\"Table 7\")\n",
    "classes_in_upsampled"
   ]
  },
  {
   "cell_type": "markdown",
   "id": "991db255-970c-4adb-9ef3-3f94de0a508c",
   "metadata": {},
   "source": [
    "Above we see in the tibble that the classes are now balanced, and we have tested for various values of $K$. Next, we collect the accuracy metrics and then plot them against the $K$ values in order to find the most suitable value for our model."
   ]
  },
  {
   "cell_type": "code",
   "execution_count": null,
   "id": "bfcf90e0-03a0-451c-9b6d-be5a9df303eb",
   "metadata": {},
   "outputs": [],
   "source": [
    "options(repr.plot.width = 10, repr.plot.height = 10)\n",
    "\n",
    "accuracies <- pulsar_workflow |>\n",
    "                  filter(.metric == \"accuracy\") |>\n",
    "                  select(neighbors, mean)\n",
    "\n",
    "accuracy_plot <- ggplot(accuracies, aes(x=neighbors, y=mean)) +\n",
    "                     geom_line() +\n",
    "                     geom_point() +\n",
    "                     labs(x = \"Neighbors\", y = \"Accuracy\", \n",
    "                          title = \"[Figure 8] Accuracies of different values of K\") +\n",
    "                     theme(text = element_text(size = 20))\n",
    "\n",
    "accuracy_plot"
   ]
  },
  {
   "cell_type": "markdown",
   "id": "97d3f435-fb1c-41f9-9582-3d490609a6cf",
   "metadata": {},
   "source": [
    "Above, we see that the accuracy is the highest for the values of $K$ between 0 and 20. Thus, we can test for values for $K$ between 0 and 20 using smaller intervals to get a better and more precise value."
   ]
  },
  {
   "cell_type": "code",
   "execution_count": null,
   "id": "74e8f57b-666e-42c6-bd06-4107a2bcdd93",
   "metadata": {},
   "outputs": [],
   "source": [
    "options(repr.plot.width = 10, repr.plot.height = 10)\n",
    "\n",
    "gridvals2 <- tibble(neighbors=seq(from=1, to=20, by=1))\n",
    "\n",
    "pulsar_workflow_2 <- workflow() |>\n",
    "                       add_recipe(pulsar_recipe) |>\n",
    "                       add_model(knn_tune) |>\n",
    "                       tune_grid(resamples=pulsar_vfold, grid=gridvals2) |>\n",
    "                       collect_metrics()\n",
    "\n",
    "accuracies2 <- pulsar_workflow_2 |>\n",
    "                  filter(.metric == \"accuracy\") |>\n",
    "                  select(neighbors, mean)\n",
    "\n",
    "accuracy_plot_2 <- ggplot(accuracies2, aes(x=neighbors, y=mean)) +\n",
    "                     geom_line() +\n",
    "                     geom_point() +\n",
    "                     labs(x = \"Neighbors\", y = \"Accuracy\", \n",
    "                          title = \"[Figure 9] Accuracies of different values of K between 0 and 20\") +\n",
    "                     theme(text = element_text(size = 20))\n",
    "\n",
    "accuracy_plot_2"
   ]
  },
  {
   "cell_type": "markdown",
   "id": "fa2d3464-233f-4400-aab2-a0c66da83f8a",
   "metadata": {},
   "source": [
    "Now we see that the maximum accuracy occurs when $K$ is 5. Thus, we can go ahead using this value of $K$ with the same model."
   ]
  },
  {
   "cell_type": "code",
   "execution_count": null,
   "id": "33541ac1-848d-4d4f-8647-1b8041ffcef8",
   "metadata": {},
   "outputs": [],
   "source": [
    "knn_tune_2 <- nearest_neighbor(weight_func = \"rectangular\", neighbors = 5) |>\n",
    "                set_engine(\"kknn\") |>\n",
    "                set_mode(\"classification\")\n",
    "\n",
    "pulsar_fit <- workflow() |>\n",
    "                add_recipe(pulsar_recipe) |>\n",
    "                add_model(knn_tune_2) |>\n",
    "                fit(data = pulsar_upsampled)"
   ]
  },
  {
   "cell_type": "markdown",
   "id": "13883fb9-879b-4381-b9d0-3f7e40b4d1c7",
   "metadata": {},
   "source": [
    "Now, we are ready to predict the class labels for our test set."
   ]
  },
  {
   "cell_type": "markdown",
   "id": "df3c4388-e81a-4817-a558-d979c8dccec2",
   "metadata": {},
   "source": [
    "## Making the predictions"
   ]
  },
  {
   "cell_type": "code",
   "execution_count": null,
   "id": "da56c540-6c14-4f1d-a0b7-068523659813",
   "metadata": {},
   "outputs": [],
   "source": [
    "pulsar_predictions <- predict(pulsar_fit , pulsar_testing) |>\n",
    "       bind_cols(pulsar_testing)\n",
    "\n",
    "\n",
    "print(\"Table 8\")\n",
    "head(pulsar_predictions)"
   ]
  },
  {
   "cell_type": "markdown",
   "id": "d9d569cf-fbe0-4996-9926-584484a94d69",
   "metadata": {},
   "source": [
    "Now, we calculate the accuracy of our predictions."
   ]
  },
  {
   "cell_type": "markdown",
   "id": "18e9c4f8-5319-4740-861a-4504f934008b",
   "metadata": {},
   "source": [
    "## Calculating the accuracies"
   ]
  },
  {
   "cell_type": "code",
   "execution_count": null,
   "id": "f6120287-d641-441b-905f-27e92b72dfff",
   "metadata": {},
   "outputs": [],
   "source": [
    "pulsar_accuracy <- pulsar_predictions |>\n",
    "                     metrics(truth = class, estimate = .pred_class) \n",
    "\n",
    "print(\"Table 9\")\n",
    "pulsar_accuracy"
   ]
  },
  {
   "cell_type": "markdown",
   "id": "63b4d48f-d975-47fe-af4d-f48bc253f324",
   "metadata": {},
   "source": [
    "Let's have a look at the confusion matrix as well."
   ]
  },
  {
   "cell_type": "code",
   "execution_count": null,
   "id": "c8e22c3d-a07c-49bc-9bb1-e199d47a1eed",
   "metadata": {},
   "outputs": [],
   "source": [
    "pulsar_mat <- pulsar_predictions |> \n",
    "                conf_mat(truth = class, estimate = .pred_class)\n",
    "\n",
    "print(\"Table 10\")\n",
    "pulsar_mat"
   ]
  },
  {
   "cell_type": "markdown",
   "id": "e6065ea6-6555-464c-93c4-a82d0aa12076",
   "metadata": {},
   "source": [
    "## Visualizing our accuracy of our model\n",
    "\n",
    "We can now try and visualize the accuracy of our predictions by plotting all predictors of the testing data and the predictions to see how similar both are. For this instance, let's just see the comparisons between the plots of mean integrated profile versus the standard deviation of the integrated profile."
   ]
  },
  {
   "cell_type": "code",
   "execution_count": null,
   "id": "86efad2d-5590-492e-85df-2b111a40bbb3",
   "metadata": {},
   "outputs": [],
   "source": [
    "options(repr.plot.width = 20, repr.plot.height = 5)\n",
    "\n",
    "plot_mean_ip_std_ip_test <- ggplot(pulsar_testing, aes(x=mean_ip_scaled, y=std_ip_scaled, color=class)) + \n",
    "                                geom_point(alpha=0.6) + \n",
    "                                ggtitle('[Figure 10] Mean IP vs Standard Deviation of IP for Testing Data') +\n",
    "                                labs(x= 'Mean IP', y= 'Standard Deviation of IP') +\n",
    "                                theme(text=element_text(size=20))\n",
    "\n",
    "plot_mean_ip_std_ip_pred <- ggplot(pulsar_predictions, aes(x=mean_ip_scaled, y=std_ip_scaled, color=.pred_class)) + \n",
    "                                geom_point(alpha = 0.5) + \n",
    "                                ggtitle('[Figure 11] Mean IP vs Standard Deviation of IP for Predictions') +\n",
    "                                labs(x= 'Mean IP', y= 'Standard Deviation of IP') +\n",
    "                                theme(text=element_text(size=20))\n",
    "\n",
    "plot_grid(plot_mean_ip_std_ip_test, plot_mean_ip_std_ip_pred)"
   ]
  },
  {
   "cell_type": "markdown",
   "id": "2678d2cb-8484-4f34-af1f-e4477305ad17",
   "metadata": {},
   "source": [
    "Now comparing the plots between Excess Kurtosis and Mean."
   ]
  },
  {
   "cell_type": "code",
   "execution_count": null,
   "id": "cf43736d-9a33-47e2-8255-df7a056dd668",
   "metadata": {},
   "outputs": [],
   "source": [
    "options(repr.plot.width = 20, repr.plot.height = 5)\n",
    "\n",
    "plot_mean_ip_ek_ip_test <- ggplot(pulsar_testing, aes(x=mean_ip_scaled, y=ek_ip_scaled, color=class)) + \n",
    "                                geom_point(alpha=0.6) + \n",
    "                                ggtitle('[Figure 12] Excess Kurtosis vs Mean of IP for Testing Data') +\n",
    "                                labs(x= 'Mean IP', y= 'Excess Kurtosis of IP') +\n",
    "                                theme(text=element_text(size=20))\n",
    "\n",
    "plot_mean_ip_ek_ip_pred <- ggplot(pulsar_predictions, aes(x=mean_ip_scaled, y=ek_ip_scaled, color=.pred_class)) + \n",
    "                                geom_point(alpha = 0.5) + \n",
    "                                ggtitle('[Figure 13] Excess Kurtosis vs Mean of IP for Predictions') +\n",
    "                                labs(x= 'Mean IP', y= 'Excess Kurtosis of IP') +\n",
    "                                theme(text=element_text(size=20))\n",
    "\n",
    "plot_grid(plot_mean_ip_ek_ip_test, plot_mean_ip_ek_ip_pred)"
   ]
  },
  {
   "cell_type": "markdown",
   "id": "dc3348ec-4c46-4dc9-a1e7-3af9d1418c7e",
   "metadata": {},
   "source": [
    "Now comparing the plots between Skewness and Mean."
   ]
  },
  {
   "cell_type": "code",
   "execution_count": null,
   "id": "79c819ed-32d8-4fe6-a878-b1f523f0eeda",
   "metadata": {},
   "outputs": [],
   "source": [
    "options(repr.plot.width = 20, repr.plot.height = 5)\n",
    "\n",
    "plot_mean_ip_sk_ip_test <- ggplot(pulsar_testing, aes(x=mean_ip_scaled, y=sk_ip_scaled, color=class)) + \n",
    "                                geom_point(alpha=0.6) + \n",
    "                                ggtitle('[Figure 14] Skewness vs Mean of IP for Testing Data') +\n",
    "                                labs(x= 'Mean IP', y= 'Skewness of IP') +\n",
    "                                theme(text=element_text(size=20))\n",
    "\n",
    "plot_mean_ip_sk_ip_pred <- ggplot(pulsar_predictions, aes(x=mean_ip_scaled, y=sk_ip_scaled, color=.pred_class)) + \n",
    "                                geom_point(alpha = 0.5) + \n",
    "                                ggtitle('[Figure 15] Skewness vs Mean of IP for Predictions') +\n",
    "                                labs(x= 'Mean IP', y= 'Skewness of IP') +\n",
    "                                theme(text=element_text(size=20))\n",
    "\n",
    "plot_grid(plot_mean_ip_sk_ip_test, plot_mean_ip_sk_ip_pred)"
   ]
  },
  {
   "cell_type": "markdown",
   "id": "430d11af",
   "metadata": {},
   "source": [
    "## Methods\n",
    "\n",
    "For this project, we decided to use $K$-nearest neighbors classification.\n",
    "\n",
    "First, we read the data straight from the web that provided the Pulsar Star data and store it a reference to locally to work upon it.\n",
    "\n",
    "To make the predictor model, we first have to make our data ready for processing. The data given was in two basic sets: Integrated Profile and DM-SNR curve. We selected the Integrated Profile set because both of these sets consist of similar measurements but in different forms, thus training the model on both sets would be redundant. Moreover, when making a ggpairs plot with all the predictors, we saw that the Integrated Profile predictors had very less overlap between the two classes, thus making them ideal for using to train our model. Then we scaled the data around the center for the predictor columns, so that the difference in the scale of all the predictors does not negatively affect the accuracy of the $K$-nn classification model which is based on the Euclidean distance between datapoints. Then we split this data by into the training and the testing set by 75% and 25%, respectively.\n",
    "\n",
    "Now working with our training set we check for any missing data which could increase complications down the line, luckily there were none. While analyzing our data, we saw that only 9.2% of the data set was made up of pulsars so we oversampled it so that the ratio of pulsars to non-pulsars was 1:1.\n",
    "\n",
    "After this we used $K$-nearest neighbors classification with cross validation of 5 folds on our data using $K$ from 1 to 100 in steps of 10. After getting the accuracy or each $K$, we observed that the highest accuracy was between 1 and 20, thus we ran it again but with $K$ from 1 to 20 with steps of 1. Again, we plotted the accuracies and found the height accuracy to be at $K = 5$.\n",
    "\n",
    "Now we trained out model with $K$ set to 5. We used the model against our testing data and obtained an accuracy of approximately 92%. We further visualized our results by comparing the predicted class (pulsar/non-pulsar) against the true class."
   ]
  },
  {
   "cell_type": "markdown",
   "id": "798b81cc-7552-47c8-b2c2-af66667e7ae2",
   "metadata": {},
   "source": [
    "## Discussions\n",
    "\n",
    "The aim of this study is to investigate the predictors that are important for identifying pulsars and predicting their presence based on their Integrated Profile statistics. \n",
    "\n",
    "After analyzing the dataset, it was found that four predictors, Mean, Standard Deviation, Excess Kurtosis, and Skewness of the Integrated Profile provide unique information on their intrinsic relationship with each observation to varying degrees. The model's accuracy was finally found to be 92%, which was higher than expected, indicating that the chosen predictors are crucial in predicting the presence of pulsars based on integrated profile statistics. The unexpectedly high accuracy might also be the result of us up-sampling our class column which mitigated the issue of one class being rare as compared to the other class, and also the fact that we fine tuned the value of $K$ by testing for various different values and finding the final value which gave the best possible results for us.\n",
    "\n",
    "The findings of this study have important implications for future research, as they provide fundamental knowledge for analyzing the most important properties of pulsars and for designing effective classification models. Furthermore, the high accuracy of the model leads to questions for future research, such as the classification of other neutron stars, such as magnetars or lower magnitude stars. Moreover, here we are predicting if an observation is a pulsar or not, but in the future we could try and predict more in-depth details of pulsars, such as their age or origin. In conclusion, the findings of this study provide valuable insights into the importance of integrated profile statistics in the identification of pulsars and highlight the potential for further research to improve our understanding of these fascinating celestial objects.\n",
    "\n"
   ]
  },
  {
   "cell_type": "markdown",
   "id": "a863d099-574d-42f5-ae35-b17f2d59991d",
   "metadata": {},
   "source": [
    "## References\n",
    "\n",
    "Dataset:\n",
    "- R. J. Lyon, B. W. Stappers, S. Cooper, J. M. Brooke, J. D. Knowles, Fifty Years of Pulsar Candidate Selection: From simple filters to a new principled real-time classification approach, Monthly Notices of the Royal Astronomical Society 459 (1), 1104-1123, DOI: 10.1093/mnras/stw656\n",
    "https://archive.ics.uci.edu/ml/datasets/HTRU2\n",
    "\n",
    "Papers:\n",
    "- R. J. Lyon, 'Why Are Pulsars Hard To Find?', PhD Thesis, University of Manchester, 2016.\n",
    "- D. R. Lorimer and M. Kramer, 'Handbook of Pulsar Astronomy', Cambridge University Press, 2005."
   ]
  },
  {
   "cell_type": "code",
   "execution_count": null,
   "id": "a4e03413-aeb0-4c70-9971-daea769c34dc",
   "metadata": {},
   "outputs": [],
   "source": []
  }
 ],
 "metadata": {
  "kernelspec": {
   "display_name": "R",
   "language": "R",
   "name": "ir"
  },
  "language_info": {
   "codemirror_mode": "r",
   "file_extension": ".r",
   "mimetype": "text/x-r-source",
   "name": "R",
   "pygments_lexer": "r",
   "version": "4.1.1"
  }
 },
 "nbformat": 4,
 "nbformat_minor": 5
}
