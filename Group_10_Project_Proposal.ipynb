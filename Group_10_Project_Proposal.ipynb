{
 "cells": [
  {
   "cell_type": "markdown",
   "id": "602bc538-b49c-4f27-ad13-d4160a1f8420",
   "metadata": {},
   "source": [
    "# DSCI 100 Group 10 Group Project Proposal\n",
    "\n",
    "## Members\n",
    "- Nishant Molleti - 21147343\n",
    "- Ajitesh Taneja - XXXXXXXX\n",
    "- Asteria Xu - XXXXXXXX\n",
    "- Audrey Tsung - XXXXXXXX"
   ]
  },
  {
   "cell_type": "markdown",
   "id": "6ffc1436-2842-45de-b6b6-690d015c010a",
   "metadata": {},
   "source": [
    "## Introduction\n",
    "\n",
    "Pulsars are rotating Neutron stars that emit radio waves at regular intervals, and their detection is important in fields such as astrophysics and radio astronomy. However, pulsars are challenging to detect due to interference and noise at radio frequencies. To improve detection, machine learning techniques have been employed. The question that can be addressed is: Which features are likely to be the most important for classifying pulsars from non-pulsars? The dataset used to answer this question is the HTRU2 dataset, which contains 17,898 observations of pulsars and non-pulsars, obtained from the High Time Resolution Universe Survey. Each observation has 8 features, including the mean, standard deviation, excess kurtosis and skewness of the integrated profile and DM-Snr curve. Additionally, a binary label is used to indicate whether an observation is a pulsar or not.\n"
   ]
  },
  {
   "cell_type": "code",
   "execution_count": null,
   "id": "44b3d481-4bc0-4130-b4ac-52247d2726cc",
   "metadata": {},
   "outputs": [],
   "source": []
  }
 ],
 "metadata": {
  "kernelspec": {
   "display_name": "R",
   "language": "R",
   "name": "ir"
  },
  "language_info": {
   "codemirror_mode": "r",
   "file_extension": ".r",
   "mimetype": "text/x-r-source",
   "name": "R",
   "pygments_lexer": "r",
   "version": "4.1.3"
  }
 },
 "nbformat": 4,
 "nbformat_minor": 5
}
